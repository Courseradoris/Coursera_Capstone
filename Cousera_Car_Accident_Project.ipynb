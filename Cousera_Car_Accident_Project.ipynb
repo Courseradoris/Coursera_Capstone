{
    "cells": [
        {
            "metadata": {
                "collapsed": true
            },
            "cell_type": "markdown",
            "source": "Capstone Car Accident Severity Project"
        },
        {
            "metadata": {},
            "cell_type": "markdown",
            "source": "Car has been one of the most important and popular transport in our daily life. Meanwhile, car accidents not only cause traffic when people commute, but also brought great damage to properties or even health and lives. This report is designed for all the drivers which aims to find the key determinants of severe car accident so that it can help drivers to avoid the occurrence of similar incidents.\u00a0"
        },
        {
            "metadata": {},
            "cell_type": "markdown",
            "source": "The data used here is provided by Seattle Police Station and recorded by Traffic Records. The Seattle Police Station collects and publishes all types of collisions since 2004 and other detailed information, which includes geographical locations, weather conditions, type of vehicles, road conditions and severity. \n\nThe comprehensive dataset will be used to find the key determinants of severe car accidents. For example, will the road and weather condition be reasons for car accidents or do they have a significant impact on the severity? With an analysis of the dataset, I hope these historical records can alarm people and provide more insights to prevent and decrease the number of car accidents. "
        }
    ],
    "metadata": {
        "kernelspec": {
            "name": "python3",
            "display_name": "Python 3.6",
            "language": "python"
        },
        "language_info": {
            "name": "python",
            "version": "3.6.9",
            "mimetype": "text/x-python",
            "codemirror_mode": {
                "name": "ipython",
                "version": 3
            },
            "pygments_lexer": "ipython3",
            "nbconvert_exporter": "python",
            "file_extension": ".py"
        }
    },
    "nbformat": 4,
    "nbformat_minor": 1
}